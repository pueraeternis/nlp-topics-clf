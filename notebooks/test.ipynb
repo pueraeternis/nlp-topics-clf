{
 "cells": [
  {
   "cell_type": "code",
   "execution_count": 1,
   "metadata": {},
   "outputs": [],
   "source": [
    "import joblib\n",
    "from dataclasses import dataclass, field, asdict\n",
    "from src.processing import process_text"
   ]
  },
  {
   "cell_type": "code",
   "execution_count": 2,
   "metadata": {},
   "outputs": [],
   "source": [
    "MODEL_PATH = \"../models/logreg_tfidf_v_0_1_1.joblib\""
   ]
  },
  {
   "cell_type": "code",
   "execution_count": 4,
   "metadata": {},
   "outputs": [],
   "source": [
    "text = '''\n",
    "    Зимой я люблю кататься на лыжах. Как правило, я просто бегаю по парку.\n",
    "    Но иногда я езжу в Красную Поляну, где катаюсь на горных лыжах всю зиму.\n",
    "    Благо, у меня удаленная работа, и я могу совмещать любимый спорт, работу\n",
    "    и страсть к путешествиям.\n",
    "'''"
   ]
  },
  {
   "cell_type": "code",
   "execution_count": 9,
   "metadata": {},
   "outputs": [],
   "source": [
    "@dataclass\n",
    "class Prediction:\n",
    "    label: str\n",
    "    probabilities: dict[str, float] = field(default_factory=dict)"
   ]
  },
  {
   "cell_type": "code",
   "execution_count": 10,
   "metadata": {},
   "outputs": [],
   "source": [
    "def predict(text: str) -> Prediction:    \n",
    "    text_processed = process_text(text)    \n",
    "\n",
    "    model = joblib.load(MODEL_PATH)\n",
    "        \n",
    "    probs = model.predict_proba([text_processed])[0].round(4).tolist()\n",
    "    class_names = model.classes_\n",
    "    probabilities = {class_name: prob for class_name, prob in zip(class_names, probs)}\n",
    "    label = max(probabilities, key=lambda k: probabilities[k])\n",
    "   \n",
    "    return Prediction(label=label, probabilities=probabilities)"
   ]
  },
  {
   "cell_type": "code",
   "execution_count": 11,
   "metadata": {},
   "outputs": [],
   "source": [
    "result = predict(text)"
   ]
  },
  {
   "cell_type": "code",
   "execution_count": 15,
   "metadata": {},
   "outputs": [
    {
     "name": "stdout",
     "output_type": "stream",
     "text": [
      "Предсказанный класс: winter_sport\n"
     ]
    }
   ],
   "source": [
    "print(\"Предсказанный класс:\", result.label)"
   ]
  },
  {
   "cell_type": "code",
   "execution_count": 16,
   "metadata": {},
   "outputs": [
    {
     "data": {
      "text/plain": [
       "{'label': 'winter_sport',\n",
       " 'probabilities': {'athletics': 0.0201,\n",
       "  'autosport': 0.0026,\n",
       "  'basketball': 0.0023,\n",
       "  'boardgames': 0.0033,\n",
       "  'esport': 0.0007,\n",
       "  'extreme': 0.0336,\n",
       "  'football': 0.0024,\n",
       "  'hockey': 0.0015,\n",
       "  'martial_arts': 0.0026,\n",
       "  'motosport': 0.0408,\n",
       "  'tennis': 0.0021,\n",
       "  'volleyball': 0.0019,\n",
       "  'winter_sport': 0.8862}}"
      ]
     },
     "execution_count": 16,
     "metadata": {},
     "output_type": "execute_result"
    }
   ],
   "source": [
    "asdict(result)"
   ]
  }
 ],
 "metadata": {
  "kernelspec": {
   "display_name": ".venv",
   "language": "python",
   "name": "python3"
  },
  "language_info": {
   "codemirror_mode": {
    "name": "ipython",
    "version": 3
   },
   "file_extension": ".py",
   "mimetype": "text/x-python",
   "name": "python",
   "nbconvert_exporter": "python",
   "pygments_lexer": "ipython3",
   "version": "3.10.12"
  }
 },
 "nbformat": 4,
 "nbformat_minor": 2
}
